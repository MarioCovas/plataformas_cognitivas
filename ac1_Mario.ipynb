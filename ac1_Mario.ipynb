{
  "nbformat": 4,
  "nbformat_minor": 0,
  "metadata": {
    "colab": {
      "provenance": []
    },
    "kernelspec": {
      "name": "python3",
      "display_name": "Python 3"
    },
    "language_info": {
      "name": "python"
    }
  },
  "cells": [
    {
      "cell_type": "code",
      "source": [
        "import requests"
      ],
      "metadata": {
        "id": "zqUPes7sVZts"
      },
      "execution_count": 28,
      "outputs": []
    },
    {
      "cell_type": "code",
      "source": [
        "RA = input(\"Digite o ultimo número do seu RA: \")\n",
        "print(RA)\n"
      ],
      "metadata": {
        "id": "BL4PtL5SVX2e",
        "colab": {
          "base_uri": "https://localhost:8080/"
        },
        "outputId": "396bb5bd-aedd-49d8-8014-1f63d3afc981"
      },
      "execution_count": 15,
      "outputs": [
        {
          "output_type": "stream",
          "name": "stdout",
          "text": [
            "Digite o ultimo número do seu RA: 5\n",
            "5\n"
          ]
        }
      ]
    },
    {
      "cell_type": "code",
      "source": [
        "print(\"1-Fhaz  2-Rhaz  3-Mast  4-Chemcam  5-Mahli  6-Mardi  7-Navcam  8-Pancam  9 e 0-Minites\")\n",
        "Robo = str(input(\"De acordo com o ultimo número do seu RA, qual é o seu robo? \"))\n",
        "Robo = Robo.lower()\n",
        "print(Robo)\n"
      ],
      "metadata": {
        "colab": {
          "base_uri": "https://localhost:8080/"
        },
        "id": "G5fARCJrWpw1",
        "outputId": "798f9985-1d1d-4f78-8de5-118f93efc055"
      },
      "execution_count": 16,
      "outputs": [
        {
          "output_type": "stream",
          "name": "stdout",
          "text": [
            "1-Fhaz  2-Rhaz  3-Mast  4-Chemcam  5-Mahli  6-Mardi  7-Navcam  8-Pancam  9 e 0-Minites\n",
            "De acordo com o ultimo número do seu RA, qual é o seu robo? 5\n",
            "5\n"
          ]
        }
      ]
    },
    {
      "cell_type": "code",
      "source": [
        "dia = int(input(\"Dia: \"))\n",
        "mes = int(input(\"Mês: \"))\n",
        "ano = int(input(\"Ano: \"))\n",
        "print(ano, mes, dia)"
      ],
      "metadata": {
        "colab": {
          "base_uri": "https://localhost:8080/"
        },
        "id": "nUEYxkXnW7tE",
        "outputId": "183ca884-dfca-4173-a2c7-64fb97555fd6"
      },
      "execution_count": 17,
      "outputs": [
        {
          "output_type": "stream",
          "name": "stdout",
          "text": [
            "Dia: 24\n",
            "Mês: 10\n",
            "Ano: 2000\n",
            "2000 10 24\n"
          ]
        }
      ]
    },
    {
      "cell_type": "code",
      "source": [
        "resposta = requests.get(f\"https://api.nasa.gov/mars-photos/api/v1/rovers/curiosity/photos?sol=1000&page=2&api_key=DEMO_KEY\")\n",
        "print(resposta)\n",
        "x = resposta.json()[\"photos\"][0][\"img_src\"]\n",
        "print(\"O link da imagem do seu RA é: \",  x)"
      ],
      "metadata": {
        "colab": {
          "base_uri": "https://localhost:8080/"
        },
        "id": "PmiMaUelW9qM",
        "outputId": "46950200-aaac-40d4-f2e3-85761682033e"
      },
      "execution_count": 27,
      "outputs": [
        {
          "output_type": "stream",
          "name": "stdout",
          "text": [
            "<Response [200]>\n",
            "O link da imagem do seu RA é:  http://mars.jpl.nasa.gov/msl-raw-images/msss/01000/mcam/1000ML0044631200305217E01_DXXX.jpg\n"
          ]
        }
      ]
    }
  ]
}